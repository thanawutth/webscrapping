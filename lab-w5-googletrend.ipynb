{
 "cells": [
  {
   "cell_type": "code",
   "execution_count": null,
   "metadata": {},
   "outputs": [],
   "source": [
    "# ดึงข้อมูลจาก google trends : https://trends.google.co.th/trends/?geo=TH\n",
    "# ข้อมูล API pytrends : https://github.com/GeneralMills/pytrends\n",
    "# cmd : pip install requests\n",
    "# cmd : pip install lxml\n",
    "# cmd : pip install pandas\n",
    "# cmd : pip install matplotlib\n",
    "# cmd : pip install pytrends"
   ]
  },
  {
   "cell_type": "code",
   "execution_count": 11,
   "metadata": {},
   "outputs": [
    {
     "name": "stdout",
     "output_type": "stream",
     "text": [
      "            ลิซ่า  โควิด isPartial\n",
      "date                              \n",
      "2016-11-27      0      0     False\n",
      "2016-12-04      0      0     False\n",
      "2016-12-11      0      0     False\n",
      "2016-12-18      0      0     False\n",
      "2016-12-25      0      0     False\n",
      "...           ...    ...       ...\n",
      "2021-10-24      3     29     False\n",
      "2021-10-31      2     28     False\n",
      "2021-11-07      2     25     False\n",
      "2021-11-14      2     23     False\n",
      "2021-11-21      2     22      True\n",
      "\n",
      "[261 rows x 3 columns]\n"
     ]
    }
   ],
   "source": [
    "from pytrends.request import TrendReq\n",
    "pytrends = TrendReq()\n",
    "kw_list = ['ลิซ่า', 'โควิด']  # ใส่ keyword ที่ต้องการค้นหา trend \n",
    "pytrends.build_payload(kw_list) # ส่ง keyword เข้าไป\n",
    "dataframe = pytrends.interest_over_time()  # pytrend จะส่งข้อมูล ระดับความสนใจ กลับมาเป็น  data frame\n",
    "print(dataframe)"
   ]
  },
  {
   "cell_type": "code",
   "execution_count": 13,
   "metadata": {},
   "outputs": [
    {
     "name": "stdout",
     "output_type": "stream",
     "text": [
      "            ลิซ่า  โควิด isPartial\n",
      "date                              \n",
      "2016-11-27      0      0     False\n",
      "2016-12-04      0      0     False\n",
      "2016-12-11      0      0     False\n",
      "2016-12-18      0      0     False\n",
      "2016-12-25      0      0     False\n"
     ]
    }
   ],
   "source": [
    "print(dataframe.head()) # แสดงเฉพาะส่วนหัว"
   ]
  },
  {
   "cell_type": "code",
   "execution_count": 14,
   "metadata": {
    "scrolled": true
   },
   "outputs": [
    {
     "name": "stdout",
     "output_type": "stream",
     "text": [
      "            ลิซ่า  โควิด isPartial\n",
      "date                              \n",
      "2021-10-24      3     29     False\n",
      "2021-10-31      2     28     False\n",
      "2021-11-07      2     25     False\n",
      "2021-11-14      2     23     False\n",
      "2021-11-21      2     22      True\n"
     ]
    }
   ],
   "source": [
    "print(dataframe.tail()) # แสดงเฉพาะส่วนท้าย"
   ]
  },
  {
   "cell_type": "code",
   "execution_count": 16,
   "metadata": {},
   "outputs": [
    {
     "name": "stdout",
     "output_type": "stream",
     "text": [
      "            Blockchain isPartial\n",
      "date                            \n",
      "2016-11-27          15     False\n",
      "2016-12-04          15     False\n",
      "2016-12-11          13     False\n",
      "2016-12-18          12     False\n",
      "2016-12-25          10     False\n",
      "...                ...       ...\n",
      "2021-10-24          42     False\n",
      "2021-10-31          46     False\n",
      "2021-11-07          49     False\n",
      "2021-11-14          46     False\n",
      "2021-11-21          40      True\n",
      "\n",
      "[261 rows x 2 columns]\n"
     ]
    }
   ],
   "source": [
    "kw_list = [\"Blockchain\"]\n",
    "pytrends.build_payload(kw_list, cat=0, timeframe='today 5-y', geo='', gprop='')\n",
    "dataframe = pytrends.interest_over_time()  # pytrend จะส่งข้อมูล ระดับความสนใจ กลับมาเป็น  data frame\n",
    "print(dataframe)"
   ]
  },
  {
   "cell_type": "code",
   "execution_count": 24,
   "metadata": {},
   "outputs": [
    {
     "name": "stdout",
     "output_type": "stream",
     "text": [
      "                     ลิซ่า  เลขเด็ด  isPartial\n",
      "date                                          \n",
      "2021-11-18 13:00:00      7        8      False\n",
      "2021-11-18 14:00:00      8        7      False\n",
      "2021-11-18 15:00:00      7        6      False\n",
      "2021-11-18 16:00:00      8        6      False\n",
      "2021-11-18 17:00:00      7        6      False\n",
      "...                    ...      ...        ...\n",
      "2021-11-25 08:00:00     18       12      False\n",
      "2021-11-25 09:00:00     21       13      False\n",
      "2021-11-25 10:00:00     20       12      False\n",
      "2021-11-25 11:00:00     21       11      False\n",
      "2021-11-25 12:00:00     19       12      False\n",
      "\n",
      "[168 rows x 3 columns]\n"
     ]
    }
   ],
   "source": [
    "kw_list = ['ลิซ่า', 'เลขเด็ด']\n",
    "pytrends.build_payload(kw_list, cat=0, timeframe='now 7-d', geo='TH', gprop='')\n",
    "dataframe = pytrends.interest_over_time()  # pytrend จะส่งข้อมูล ระดับความสนใจ กลับมาเป็น  data frame\n",
    "print(dataframe)"
   ]
  },
  {
   "cell_type": "code",
   "execution_count": 30,
   "metadata": {},
   "outputs": [
    {
     "name": "stdout",
     "output_type": "stream",
     "text": [
      "               ลิซ่า  โควิด\n",
      "geoName                    \n",
      "Amnat Charoen      0      0\n",
      "Ang Thong          0      0\n",
      "Bangkok            6     94\n",
      "Bueng Kan          0      0\n",
      "Buri Ram           0      0\n",
      "...              ...    ...\n",
      "Udon Thani         0      0\n",
      "Uthai Thani        0      0\n",
      "Uttaradit          0      0\n",
      "Yala               0      0\n",
      "Yasothon           0      0\n",
      "\n",
      "[77 rows x 2 columns]\n"
     ]
    },
    {
     "data": {
      "image/png": "[encoded data removed]",
      "text/plain": [
       "<Figure size 432x288 with 1 Axes>"
      ]
     },
     "metadata": {
      "needs_background": "light"
     },
     "output_type": "display_data"
    }
   ],
   "source": [
    "import matplotlib.pyplot as plt\n",
    "kw_list = ['ลิซ่า', 'โควิด']  # ใส่ keyword ที่ต้องการค้นหา trend \n",
    "pytrends.build_payload(kw_list) # ส่ง keyword เข้าไป\n",
    "dataframe = pytrends.interest_by_region()  # pytrend จะส่งข้อมูล ระดับความสนใจ กลับมาเป็น  data frame\n",
    "print(dataframe)\n",
    "plt.plot(dataframe)\n",
    "plt.show()"
   ]
  },
  {
   "cell_type": "code",
   "execution_count": 49,
   "metadata": {},
   "outputs": [
    {
     "name": "stdout",
     "output_type": "stream",
     "text": [
      "              ลิซ่า  โควิด\n",
      "geoName                   \n",
      "Mae Hong Son      0      0\n"
     ]
    },
    {
     "data": {
      "image/png": "[encoded data removed]",
      "text/plain": [
       "<Figure size 432x288 with 1 Axes>"
      ]
     },
     "metadata": {
      "needs_background": "light"
     },
     "output_type": "display_data"
    }
   ],
   "source": [
    "print(dataframe.sample())\n",
    "plt.plot(dataframe.sample())\n",
    "plt.show()"
   ]
  },
  {
   "cell_type": "code",
   "execution_count": 52,
   "metadata": {},
   "outputs": [
    {
     "name": "stdout",
     "output_type": "stream",
     "text": [
      "{'ลิซ่า': {'top':                    query  value\n",
      "0                 ลิ ซ่า    100\n",
      "1       blackpink ลิ ซ่า     11\n",
      "2              blackpink     11\n",
      "3             รูป ลิ ซ่า      5\n",
      "4         ลิ ซ่า ประวัติ      5\n",
      "5               ลิ ส ซ่า      5\n",
      "6           โม นา ลิ ซ่า      4\n",
      "7             เจน ลิ ซ่า      4\n",
      "8            เพลง ลิ ซ่า      4\n",
      "9         เจน นี่ ลิ ซ่า      3\n",
      "10               เจน นี่      3\n",
      "11         โร เซ่ ลิ ซ่า      3\n",
      "12                โร เซ่      3\n",
      "13             ig ลิ ซ่า      3\n",
      "14           ลิ ซ่า เต้น      3\n",
      "15        ลิ ซ่า จอง กุก      3\n",
      "16               จอง กุก      2\n",
      "17                 จี ซู      2\n",
      "18     ลิ ซ่า black pink      2\n",
      "19         ลิ ซ่า pantip      2\n",
      "20         แบ ล็ ค พิ้ ง      2\n",
      "21  ลิ ซ่า แบ ล็ ค พิ้ ง      2\n",
      "22            black pink      2\n",
      "23          ลิ ซ่า จี ซู      2\n",
      "24            ภาพ ลิ ซ่า      2, 'rising':                         query   value\n",
      "0               โร เซ่ ลิ ซ่า  290800\n",
      "1               แบ ล็ ค พิ้ ง  229350\n",
      "2        ลิ ซ่า แบ ล็ ค พิ้ ง  225500\n",
      "3                ลิ ซ่า จี ซู  204900\n",
      "4                ทวิ ต ลิ ซ่า  178100\n",
      "5            ลิ ซ่า แบ ม แบ ม  126750\n",
      "6          ลิ ซ่า ทวิ ต เตอร์  116500\n",
      "7     แบ ล็ ค พิ้ ง ค์ ลิ ซ่า   88450\n",
      "8           เจน นี่ blackpink   86750\n",
      "9   ลิ ซ่า blackpink ศัลยกรรม   83000\n",
      "10             ลิ ซ่า ปู หนีบ   72750\n",
      "11       ลิ ซ่า blackpink รูป   56000\n",
      "12       ปู หนีบ อี ปิ ลิ ซ่า   51650\n",
      "13             หน้าม้า ลิ ซ่า   48650\n",
      "14            ลิ ซ่า ส่วน สูง   47250\n",
      "15            ด รา ม่า ลิ ซ่า   45150\n",
      "16         จอง กุก กับ ลิ ซ่า   43250\n",
      "17           blackpink pantip   42700\n",
      "18       เพลง ที่ ลิ ซ่า เต้น   40650\n",
      "19             ลิ ซ่า gurenge   39250\n",
      "20         ลิ ซ่า กับ เจน นี่   38150\n",
      "21                ลิ ซ่า solo   35900\n",
      "22            ท่า เต้น ลิ ซ่า   35750\n",
      "23       รูป ลิ ซ่า น่า รัก ๆ   34650\n",
      "24       ลิ ซ่า เป็น ลูกครึ่ง   34150}, 'โควิด': {'top':                        query  value\n",
      "0                     โค วิด    100\n",
      "1             โค วิด วัน นี้     16\n",
      "2                  โค วิด 19     13\n",
      "3               โค วิด อาการ     12\n",
      "4              วัคซีน โค วิด     12\n",
      "5                     วัคซีน     12\n",
      "6                 ติด โค วิด     10\n",
      "7                ตรวจ โค วิด      9\n",
      "8          ฉีด วัคซีน โค วิด      6\n",
      "9              ประกัน โค วิด      6\n",
      "10              เชื้อ โค วิด      5\n",
      "11                โค วิด ไทย      5\n",
      "12             โค วิด ล่าสุด      5\n",
      "13          ติด เชื้อ โค วิด      4\n",
      "14               ข่าว โค วิด      4\n",
      "15          สถานการณ์ โค วิด      3\n",
      "16                ยอด โค วิด      3\n",
      "17        ติด โค วิด วัน นี้      3\n",
      "18      ผู้ ติด เชื้อ โค วิด      3\n",
      "19            ป้องกัน โค วิด      2\n",
      "20           โค วิด 19 อาการ      2\n",
      "21        ยอด โค วิด วัน นี้      2\n",
      "22                โรค โค วิด      2\n",
      "23  ติด เชื้อ โค วิด วัน นี้      2\n",
      "24  ลง ทะเบียน วัคซีน โค วิด      2, 'rising':                            query    value\n",
      "0                 โค วิด วัน นี้  1617100\n",
      "1                      โค วิด 19  1237250\n",
      "2                   โค วิด อาการ  1220500\n",
      "3                  วัคซีน โค วิด  1187350\n",
      "4                         วัคซีน  1163850\n",
      "5                     ติด โค วิด   950700\n",
      "6                    ตรวจ โค วิด   926300\n",
      "7              ฉีด วัคซีน โค วิด   556900\n",
      "8                  ประกัน โค วิด   549500\n",
      "9                   เชื้อ โค วิด   539400\n",
      "10                    โค วิด ไทย   515000\n",
      "11              ติด เชื้อ โค วิด   425800\n",
      "12                   ข่าว โค วิด   392650\n",
      "13              สถานการณ์ โค วิด   327850\n",
      "14                    ยอด โค วิด   312950\n",
      "15            ติด โค วิด วัน นี้   264300\n",
      "16          ผู้ ติด เชื้อ โค วิด   253300\n",
      "17                ป้องกัน โค วิด   244600\n",
      "18               โค วิด 19 อาการ   225850\n",
      "19            ยอด โค วิด วัน นี้   191800\n",
      "20                    โรค โค วิด   180150\n",
      "21      ติด เชื้อ โค วิด วัน นี้   178950\n",
      "22      ลง ทะเบียน วัคซีน โค วิด   169450\n",
      "23           ข่าว โค วิด วัน นี้   161300\n",
      "24  ลง ทะเบียน ฉีด วัคซีน โค วิด   152550}}\n"
     ]
    }
   ],
   "source": [
    "import matplotlib.pyplot as plt\n",
    "kw_list = ['ลิซ่า', 'โควิด']  # ใส่ keyword ที่ต้องการค้นหา trend \n",
    "pytrends.build_payload(kw_list) # ส่ง keyword เข้าไป\n",
    "datadic = pytrends.related_queries()  # pytrend จะส่งข้อมูล คำค้นหาที่เกี่ยวข้อง  data dictionary\n",
    "print(datadic)\n"
   ]
  },
  {
   "cell_type": "code",
   "execution_count": 54,
   "metadata": {},
   "outputs": [
    {
     "name": "stdout",
     "output_type": "stream",
     "text": [
      "                        query   value\n",
      "0               โร เซ่ ลิ ซ่า  290800\n",
      "1               แบ ล็ ค พิ้ ง  229350\n",
      "2        ลิ ซ่า แบ ล็ ค พิ้ ง  225500\n",
      "3                ลิ ซ่า จี ซู  204900\n",
      "4                ทวิ ต ลิ ซ่า  178100\n",
      "5            ลิ ซ่า แบ ม แบ ม  126750\n",
      "6          ลิ ซ่า ทวิ ต เตอร์  116500\n",
      "7     แบ ล็ ค พิ้ ง ค์ ลิ ซ่า   88450\n",
      "8           เจน นี่ blackpink   86750\n",
      "9   ลิ ซ่า blackpink ศัลยกรรม   83000\n",
      "10             ลิ ซ่า ปู หนีบ   72750\n",
      "11       ลิ ซ่า blackpink รูป   56000\n",
      "12       ปู หนีบ อี ปิ ลิ ซ่า   51650\n",
      "13             หน้าม้า ลิ ซ่า   48650\n",
      "14            ลิ ซ่า ส่วน สูง   47250\n",
      "15            ด รา ม่า ลิ ซ่า   45150\n",
      "16         จอง กุก กับ ลิ ซ่า   43250\n",
      "17           blackpink pantip   42700\n",
      "18       เพลง ที่ ลิ ซ่า เต้น   40650\n",
      "19             ลิ ซ่า gurenge   39250\n",
      "20         ลิ ซ่า กับ เจน นี่   38150\n",
      "21                ลิ ซ่า solo   35900\n",
      "22            ท่า เต้น ลิ ซ่า   35750\n",
      "23       รูป ลิ ซ่า น่า รัก ๆ   34650\n",
      "24       ลิ ซ่า เป็น ลูกครึ่ง   34150\n"
     ]
    }
   ],
   "source": [
    "print(datadic['ลิซ่า']['rising'])"
   ]
  },
  {
   "cell_type": "code",
   "execution_count": 55,
   "metadata": {},
   "outputs": [
    {
     "name": "stdout",
     "output_type": "stream",
     "text": [
      "------\n",
      "top :                    query  value\n",
      "0                 ลิ ซ่า    100\n",
      "1       blackpink ลิ ซ่า     11\n",
      "2              blackpink     11\n",
      "3             รูป ลิ ซ่า      5\n",
      "4         ลิ ซ่า ประวัติ      5\n",
      "5               ลิ ส ซ่า      5\n",
      "6           โม นา ลิ ซ่า      4\n",
      "7             เจน ลิ ซ่า      4\n",
      "8            เพลง ลิ ซ่า      4\n",
      "9         เจน นี่ ลิ ซ่า      3\n",
      "10               เจน นี่      3\n",
      "11         โร เซ่ ลิ ซ่า      3\n",
      "12                โร เซ่      3\n",
      "13             ig ลิ ซ่า      3\n",
      "14           ลิ ซ่า เต้น      3\n",
      "15        ลิ ซ่า จอง กุก      3\n",
      "16               จอง กุก      2\n",
      "17                 จี ซู      2\n",
      "18     ลิ ซ่า black pink      2\n",
      "19         ลิ ซ่า pantip      2\n",
      "20         แบ ล็ ค พิ้ ง      2\n",
      "21  ลิ ซ่า แบ ล็ ค พิ้ ง      2\n",
      "22            black pink      2\n",
      "23          ลิ ซ่า จี ซู      2\n",
      "24            ภาพ ลิ ซ่า      2\n",
      "rising :                         query   value\n",
      "0               โร เซ่ ลิ ซ่า  290800\n",
      "1               แบ ล็ ค พิ้ ง  229350\n",
      "2        ลิ ซ่า แบ ล็ ค พิ้ ง  225500\n",
      "3                ลิ ซ่า จี ซู  204900\n",
      "4                ทวิ ต ลิ ซ่า  178100\n",
      "5            ลิ ซ่า แบ ม แบ ม  126750\n",
      "6          ลิ ซ่า ทวิ ต เตอร์  116500\n",
      "7     แบ ล็ ค พิ้ ง ค์ ลิ ซ่า   88450\n",
      "8           เจน นี่ blackpink   86750\n",
      "9   ลิ ซ่า blackpink ศัลยกรรม   83000\n",
      "10             ลิ ซ่า ปู หนีบ   72750\n",
      "11       ลิ ซ่า blackpink รูป   56000\n",
      "12       ปู หนีบ อี ปิ ลิ ซ่า   51650\n",
      "13             หน้าม้า ลิ ซ่า   48650\n",
      "14            ลิ ซ่า ส่วน สูง   47250\n",
      "15            ด รา ม่า ลิ ซ่า   45150\n",
      "16         จอง กุก กับ ลิ ซ่า   43250\n",
      "17           blackpink pantip   42700\n",
      "18       เพลง ที่ ลิ ซ่า เต้น   40650\n",
      "19             ลิ ซ่า gurenge   39250\n",
      "20         ลิ ซ่า กับ เจน นี่   38150\n",
      "21                ลิ ซ่า solo   35900\n",
      "22            ท่า เต้น ลิ ซ่า   35750\n",
      "23       รูป ลิ ซ่า น่า รัก ๆ   34650\n",
      "24       ลิ ซ่า เป็น ลูกครึ่ง   34150\n",
      "------\n",
      "top :                        query  value\n",
      "0                     โค วิด    100\n",
      "1             โค วิด วัน นี้     16\n",
      "2                  โค วิด 19     13\n",
      "3               โค วิด อาการ     12\n",
      "4              วัคซีน โค วิด     12\n",
      "5                     วัคซีน     12\n",
      "6                 ติด โค วิด     10\n",
      "7                ตรวจ โค วิด      9\n",
      "8          ฉีด วัคซีน โค วิด      6\n",
      "9              ประกัน โค วิด      6\n",
      "10              เชื้อ โค วิด      5\n",
      "11                โค วิด ไทย      5\n",
      "12             โค วิด ล่าสุด      5\n",
      "13          ติด เชื้อ โค วิด      4\n",
      "14               ข่าว โค วิด      4\n",
      "15          สถานการณ์ โค วิด      3\n",
      "16                ยอด โค วิด      3\n",
      "17        ติด โค วิด วัน นี้      3\n",
      "18      ผู้ ติด เชื้อ โค วิด      3\n",
      "19            ป้องกัน โค วิด      2\n",
      "20           โค วิด 19 อาการ      2\n",
      "21        ยอด โค วิด วัน นี้      2\n",
      "22                โรค โค วิด      2\n",
      "23  ติด เชื้อ โค วิด วัน นี้      2\n",
      "24  ลง ทะเบียน วัคซีน โค วิด      2\n",
      "rising :                            query    value\n",
      "0                 โค วิด วัน นี้  1617100\n",
      "1                      โค วิด 19  1237250\n",
      "2                   โค วิด อาการ  1220500\n",
      "3                  วัคซีน โค วิด  1187350\n",
      "4                         วัคซีน  1163850\n",
      "5                     ติด โค วิด   950700\n",
      "6                    ตรวจ โค วิด   926300\n",
      "7              ฉีด วัคซีน โค วิด   556900\n",
      "8                  ประกัน โค วิด   549500\n",
      "9                   เชื้อ โค วิด   539400\n",
      "10                    โค วิด ไทย   515000\n",
      "11              ติด เชื้อ โค วิด   425800\n",
      "12                   ข่าว โค วิด   392650\n",
      "13              สถานการณ์ โค วิด   327850\n",
      "14                    ยอด โค วิด   312950\n",
      "15            ติด โค วิด วัน นี้   264300\n",
      "16          ผู้ ติด เชื้อ โค วิด   253300\n",
      "17                ป้องกัน โค วิด   244600\n",
      "18               โค วิด 19 อาการ   225850\n",
      "19            ยอด โค วิด วัน นี้   191800\n",
      "20                    โรค โค วิด   180150\n",
      "21      ติด เชื้อ โค วิด วัน นี้   178950\n",
      "22      ลง ทะเบียน วัคซีน โค วิด   169450\n",
      "23           ข่าว โค วิด วัน นี้   161300\n",
      "24  ลง ทะเบียน ฉีด วัคซีน โค วิด   152550\n"
     ]
    }
   ],
   "source": [
    "for i in datadic:\n",
    "    print(\"------\")\n",
    "    for j in datadic[i]:\n",
    "        print(j,':',datadic[i][j])"
   ]
  }
 ],
 "metadata": {
  "kernelspec": {
   "display_name": "Python 3",
   "language": "python",
   "name": "python3"
  },
  "language_info": {
   "codemirror_mode": {
    "name": "ipython",
    "version": 3
   },
   "file_extension": ".py",
   "mimetype": "text/x-python",
   "name": "python",
   "nbconvert_exporter": "python",
   "pygments_lexer": "ipython3",
   "version": "3.8.6"
  }
 },
 "nbformat": 4,
 "nbformat_minor": 4
}
